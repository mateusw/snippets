{
 "cells": [
  {
   "cell_type": "code",
   "execution_count": null,
   "id": "07d3bcc8-9b0c-46a6-83f3-a01b5d10a5e9",
   "metadata": {},
   "outputs": [],
   "source": [
    "!pip install dash dash-mantine-components"
   ]
  },
  {
   "cell_type": "code",
   "execution_count": null,
   "id": "cd39b21a-402b-4494-a3d2-bbc02aed4e81",
   "metadata": {},
   "outputs": [],
   "source": [
    "from google.cloud import vision_v1\n",
    "from dash import Dash, html, dash_table, dcc, callback, Output, Input, State\n",
    "import pandas as pd\n",
    "import plotly.express as px\n",
    "import dash_mantine_components as dmc\n",
    "from PIL import Image\n",
    "import base64\n",
    "import time\n",
    "import io"
   ]
  },
  {
   "cell_type": "code",
   "execution_count": null,
   "id": "b25afe78-5d16-4bb9-b2df-e79b34fb54bc",
   "metadata": {},
   "outputs": [],
   "source": [
    "PROJECT_ID = \"-------\"\n",
    "LOCATION_ID = \"us-east1\"\n",
    "PRODUCT_SET_ID = \"product_set10\"\n",
    "PARENT=f\"projects/{PROJECT_ID}/locations/{LOCATION_ID}\""
   ]
  },
  {
   "cell_type": "code",
   "execution_count": null,
   "id": "0562c3c0-32a1-467d-9a82-dec306e3d712",
   "metadata": {},
   "outputs": [],
   "source": [
    "image_annotator_client = vision_v1.ImageAnnotatorClient()"
   ]
  },
  {
   "cell_type": "code",
   "execution_count": null,
   "id": "f11042ce-2181-4e53-8f0a-62ca23d57537",
   "metadata": {},
   "outputs": [],
   "source": [
    "\n",
    "# Search products similar to the image.\n",
    "def search_by_image(image):\n",
    "    \n",
    "    new_image = base64.b64decode(image.split(',')[1])\n",
    "        \n",
    "    response = image_annotator_client.product_search(\n",
    "    \n",
    "        vision_v1.Image(content = new_image),\n",
    "\n",
    "        image_context = {\n",
    "            \"product_search_params\": {\n",
    "                \"product_categories\": [\"apparel-v2\"],\n",
    "                \"product_set\": f\"projects/{PROJECT_ID}/locations/{LOCATION_ID}/productSets/{PRODUCT_SET_ID}\"\n",
    "            }\n",
    "        },\n",
    "\n",
    "        max_results = 10\n",
    "    )\n",
    "    results = response.product_search_results.results\n",
    "    return results"
   ]
  },
  {
   "cell_type": "code",
   "execution_count": null,
   "id": "df6a117d-e84e-48b7-8968-ca354a6ff6ba",
   "metadata": {},
   "outputs": [],
   "source": [
    "def parse_contents(contents, filename, date):\n",
    "\n",
    "    start = time.time()\n",
    "    results = search_by_image(contents)\n",
    "    response_time = time.time() - start\n",
    "    \n",
    "    children = []\n",
    "    \n",
    "    for result in results:\n",
    "        \n",
    "        prod_id = result.product.name[result.product.name.rindex('/')+1:]\n",
    "        img_link = \"https://{}\".format(prod_id)\n",
    "        prod_link = \"https://{}\".format(prod_id)\n",
    "        \n",
    "        children.append(\n",
    "            html.Div([\n",
    "                dmc.Image(src=img_link, width = 200),\n",
    "                dmc.Anchor(\"SKU #{}\".format(prod_id), href = prod_link),\n",
    "                #dmc.Text(result.score)\n",
    "                \n",
    "            ])\n",
    "    )\n",
    "    return html.Div(\n",
    "        [\n",
    "            dmc.Center(html.Img(src=contents, style={'height':'10%', 'width':'10%'})),\n",
    "            dmc.Space(h=10),\n",
    "            dmc.Divider(variant=\"dotted\"),\n",
    "            dmc.Space(h=10),\n",
    "            dmc.Center(dmc.Title(\"Products Found (response time {} sec):\".format(round(response_time, 2)), color=\"blue\", size=\"h4\")),\n",
    "            dmc.Space(h=10),\n",
    "            dmc.Center(\n",
    "                dmc.SimpleGrid(\n",
    "                    cols=5,\n",
    "                    spacing=\"lg\",\n",
    "                    children = children\n",
    "                )\n",
    "            )\n",
    "        ])\n"
   ]
  },
  {
   "cell_type": "code",
   "execution_count": null,
   "id": "1ce8ddb3-539a-4375-b55b-5ce5bec78eeb",
   "metadata": {},
   "outputs": [],
   "source": [
    "@callback(Output('output-image-upload', 'children'),\n",
    "              Input('upload-image', 'contents'),\n",
    "              State('upload-image', 'filename'),\n",
    "              State('upload-image', 'last_modified'))\n",
    "def update_output(contents, filename, last_modified):\n",
    "    if contents is not None:\n",
    "        children = [parse_contents(contents, filename, last_modified)]\n",
    "        return children\n",
    "    else:\n",
    "        return list()\n",
    "\n"
   ]
  },
  {
   "cell_type": "code",
   "execution_count": null,
   "id": "6a0f0688-d856-4fae-9dd2-17f8b1f0503c",
   "metadata": {},
   "outputs": [],
   "source": [
    "# Initialize the app - incorporate a Dash Mantine theme\n",
    "\n",
    "app = Dash(\n",
    "    __name__, \n",
    "    external_stylesheets=[dmc.theme.DEFAULT_COLORS],\n",
    "    serve_locally = False, \n",
    "    requests_pathname_prefix=\"/proxy/8050\"\n",
    ")\n",
    "\n",
    "app.layout = dmc.Container([\n",
    "\n",
    "    dmc.Space(h=30),\n",
    "\n",
    "    dmc.Center(\n",
    "        html.Div([\n",
    "            dmc.Image(src=app.get_asset_url('-----.png'),\n",
    "                      width=300, \n",
    "                      #height=100, \n",
    "                      withPlaceholder=True),\n",
    "            dmc.Space(h=20),\n",
    "            dmc.Title('Improving Search with Vision Product Search API', color=\"blue\", size=\"h2\"),\n",
    "            dmc.Text('This demo consists of receiving a photo from the end user and using it to find candidates in 10 thousand downloaded photos of real --- products indexed using the Vision Product Search API.', size=\"md\"),\n",
    "            dmc.Text('The expected response time is 300ms', size=\"md\"),\n",
    "            dmc.Text('Questions? ----', size=\"md\"),\n",
    "            dmc.Space(h=10),\n",
    "            dmc.Divider(variant=\"solid\")\n",
    "        ])\n",
    "    ),\n",
    "\n",
    "     dmc.Center(\n",
    "        html.Div([\n",
    "            dmc.Space(h=30),\n",
    "            dcc.Upload(id='upload-image', children=dmc.Button('Search with an image. Drag & Drop or Browse'), multiple=False),\n",
    "        ])\n",
    "     ),\n",
    "\n",
    "    dmc.Space(h=30),\n",
    "    \n",
    "    html.Div(id = 'output-image-upload')\n",
    "\n",
    "    ], \n",
    "    fluid=True)\n",
    "\n",
    "app.run(jupyter_mode=\"external\", \n",
    "        jupyter_server_url=\"https://--------------dot-us-central1.notebooks.googleusercontent.com\")\n",
    "\n"
   ]
  },
  {
   "cell_type": "code",
   "execution_count": null,
   "id": "8c73c524-ec87-4634-a660-2f348092ac41",
   "metadata": {},
   "outputs": [],
   "source": []
  },
  {
   "cell_type": "code",
   "execution_count": null,
   "id": "37c30e75-0bd3-418c-be6c-9d7664e5e794",
   "metadata": {},
   "outputs": [],
   "source": []
  }
 ],
 "metadata": {
  "environment": {
   "kernel": "python3",
   "name": "pytorch-gpu.2-0.m112",
   "type": "gcloud",
   "uri": "gcr.io/deeplearning-platform-release/pytorch-gpu.2-0:m112"
  },
  "kernelspec": {
   "display_name": "Python 3",
   "language": "python",
   "name": "python3"
  },
  "language_info": {
   "codemirror_mode": {
    "name": "ipython",
    "version": 3
   },
   "file_extension": ".py",
   "mimetype": "text/x-python",
   "name": "python",
   "nbconvert_exporter": "python",
   "pygments_lexer": "ipython3",
   "version": "3.10.12"
  }
 },
 "nbformat": 4,
 "nbformat_minor": 5
}
