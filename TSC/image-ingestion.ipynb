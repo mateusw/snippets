{
 "cells": [
  {
   "cell_type": "code",
   "execution_count": null,
   "id": "2e4403b9-3d61-4680-84e6-03bcd4558bf9",
   "metadata": {},
   "outputs": [],
   "source": [
    "# Script for non-productive use. It takes the list of URLs from a CSV file,\n",
    "# downloads each file and then uploads it to the GCS and at the end, \n",
    "# creates a CSV compatible with the Vision API Product Search .\n",
    "\n",
    "# mateuswagner@google.com\n",
    "\n",
    "# Requirements:\n",
    "#  Cloud SDK: https://cloud.google.com/sdk\n",
    "#  pip install google-cloud-storage requests pandas"
   ]
  },
  {
   "cell_type": "code",
   "execution_count": null,
   "id": "c55ac0d9-6a94-4952-b410-8885c9589b27",
   "metadata": {},
   "outputs": [],
   "source": [
    "# Create a destination bucket\n",
    "BUCKET_NAME = \"fb790ef7-2d45-4ba0-b44e-040d2bd3e244\" # change it!\n",
    "!gsutil mb -l us-east1 gs://$BUCKET_NAME"
   ]
  },
  {
   "cell_type": "code",
   "execution_count": null,
   "id": "c2b1b902-2494-4953-8845-3ad646e3345b",
   "metadata": {},
   "outputs": [],
   "source": [
    "import pandas as pd\n",
    "import requests\n",
    "import io\n",
    "import os\n",
    "import requests\n",
    "from google.cloud import storage\n",
    "import logging\n",
    "import time\n",
    "import random\n",
    "\n",
    "log = logging.getLogger(__name__)\n",
    "logging.basicConfig(level=os.environ.get(\"LOGLEVEL\", \"INFO\"))"
   ]
  },
  {
   "cell_type": "code",
   "execution_count": null,
   "id": "039a17b8-b471-4578-b99f-70424c2d66f6",
   "metadata": {},
   "outputs": [],
   "source": [
    "# Load product set csv\n",
    "\n",
    "MAX_IMAGE_COUNT = 100 #change it!\n",
    "\n",
    "df = pd.read_csv('product_set.csv',header=None)\n",
    "columns = [\"image-uri\",\"image-id\",\"product-set-id\", \"product-id\", \"product-category\"] #, \"product-display-name\", \"labels\", \"bounding-poly\"]\n",
    "df.columns = columns\n",
    "df = df.drop_duplicates(subset=['image-uri']) # remove duplicates\n",
    "df = df[:MAX_IMAGE_COUNT] # truncate to max allowed (20K)\n"
   ]
  },
  {
   "cell_type": "code",
   "execution_count": null,
   "id": "9b9db553-52b6-4baa-933e-9c407e6845b6",
   "metadata": {},
   "outputs": [],
   "source": [
    "# Get bucket ref\n",
    "\n",
    "storage_client = storage.Client()\n",
    "bucket = storage_client.get_bucket(BUCKET_NAME)\n"
   ]
  },
  {
   "cell_type": "code",
   "execution_count": null,
   "id": "631dbc50-97ce-4f02-b5c4-c876136d3e99",
   "metadata": {},
   "outputs": [],
   "source": [
    "%%time\n",
    "# Iterate of rows, download and upload objects\n",
    "\n",
    "final_df = df.copy()\n",
    "\n",
    "for index, row in df.iterrows():\n",
    "    \n",
    "    log.info(\"Processing #{}: {}\".format(index,row['image-uri']))\n",
    "    \n",
    "    blob = bucket.blob(\n",
    "        \"{}/{}.{}\".format(row[\"product-set-id\"],row['image-id'],\"jpg\")\n",
    "    )\n",
    "    log.info(\"Downloading: {}\".format(row['image-uri']))\n",
    "    response = requests.get(\n",
    "        row['image-uri']\n",
    "    )\n",
    "    img_f = io.BytesIO(response.content)\n",
    "    log.info(\"Uploading: {}\".format(blob))\n",
    "    blob.upload_from_file(img_f,\n",
    "                      content_type = response.headers['Content-Type'])\n",
    "\n",
    "    final_df.at[index,'image-uri'] = \"gs://{}/{}\".format(BUCKET_NAME, blob.name)\n",
    "\n",
    "    #time.sleep(random.uniform(0, 2.0)) #optional"
   ]
  },
  {
   "cell_type": "code",
   "execution_count": null,
   "id": "cae12666-59d8-4b19-8414-4276043eb7ec",
   "metadata": {},
   "outputs": [],
   "source": [
    "# Save final CSV file\n",
    "\n",
    "## bulk import require that the number of columns in the csv line should be 8\n",
    "final_df['product-display-name'] = None\n",
    "final_df['labels'] = None\n",
    "final_df['bounding-poly'] = None\n",
    "\n",
    "final_df.to_csv(\"final_product_set.csv\", header=False, index=False)"
   ]
  },
  {
   "cell_type": "code",
   "execution_count": null,
   "id": "ccac509d-ed9f-408c-afbb-aba155c8ecea",
   "metadata": {},
   "outputs": [],
   "source": [
    "# Copy new CSV to GCS\n",
    "!gsutil cp final_product_set.csv gs://$BUCKET_NAME"
   ]
  },
  {
   "cell_type": "code",
   "execution_count": null,
   "id": "1dbddc51-5def-4bc7-a529-6bdf253d860b",
   "metadata": {},
   "outputs": [],
   "source": []
  }
 ],
 "metadata": {
  "environment": {
   "kernel": "python3",
   "name": "pytorch-gpu.1-13.m108",
   "type": "gcloud",
   "uri": "gcr.io/deeplearning-platform-release/pytorch-gpu.1-13:m108"
  },
  "kernelspec": {
   "display_name": "Python 3",
   "language": "python",
   "name": "python3"
  },
  "language_info": {
   "codemirror_mode": {
    "name": "ipython",
    "version": 3
   },
   "file_extension": ".py",
   "mimetype": "text/x-python",
   "name": "python",
   "nbconvert_exporter": "python",
   "pygments_lexer": "ipython3",
   "version": "3.10.10"
  }
 },
 "nbformat": 4,
 "nbformat_minor": 5
}
