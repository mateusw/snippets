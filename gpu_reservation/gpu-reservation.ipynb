{
 "cells": [
  {
   "cell_type": "markdown",
   "id": "cf5ce02f-a353-4e46-a04c-fac56fe1693b",
   "metadata": {},
   "source": [
    "# Try n times to create a reservation. returns json or None.\n",
    "# Using beta API https://compute.googleapis.com/compute/beta/..."
   ]
  },
  {
   "cell_type": "code",
   "execution_count": null,
   "id": "c9052d59-d367-4dfc-a07f-dc5e2305f04a",
   "metadata": {},
   "outputs": [],
   "source": [
    "!pip install --upgrade -q google-cloud-compute"
   ]
  },
  {
   "cell_type": "code",
   "execution_count": null,
   "id": "53c10fc5-1a34-4fb0-9640-bb6100ea1a9c",
   "metadata": {},
   "outputs": [],
   "source": [
    "import google.auth.transport.requests\n",
    "from google.oauth2 import credentials\n",
    "import datetime\n",
    "import requests\n",
    "import logging\n",
    "import pprint\n",
    "import base64\n",
    "import random\n",
    "import uuid\n",
    "import time\n",
    "import json"
   ]
  },
  {
   "cell_type": "code",
   "execution_count": null,
   "id": "430dc82a-4108-4875-aa24-73335977cf94",
   "metadata": {},
   "outputs": [],
   "source": [
    "# Settings\n",
    "\n",
    "logging.basicConfig()\n",
    "logging.getLogger().setLevel(logging.INFO)\n",
    "\n",
    "project = \"matt-demos\"\n",
    "machines = 1\n",
    "retries = 1000\n",
    "\n",
    "# Ref.: https://cloud.google.com/compute/docs/gpus\n",
    "zones = [\"us-central1-a\", \"us-central1-b\", \"us-central1-c\", \"us-central1-f\"]\n",
    "machine_type = \"a2-highgpu-1g\" #a2-highgpu-1g, a2-ultragpu-1g, g2-standard-4\n",
    "accelerator_type = \"nvidia-tesla-a100\" #nvidia-a100-80gb, nvidia-tesla-a100, nvidia-l4\n",
    "accelerator_count = 1\n",
    "reservation_name = \"gpu-reservation-{}\".format(uuid.uuid4())\n",
    "\n",
    "#Auto delete today at 23:59\n",
    "autodelete = datetime.datetime.now().replace(hour=23, minute=59).astimezone(datetime.timezone.utc).strftime('%Y-%m-%dT%H:%M:%S-05:00')\n",
    "\n",
    "# Ref.: https://cloud.google.com/compute/docs/reference/rest/beta/reservations/insert#request-body\n",
    "request = {\n",
    "  \"name\": reservation_name,\n",
    "  \"deleteAtTime\": autodelete,\n",
    "  \"shareSettings\": {\n",
    "    \"shareType\": \"LOCAL\"\n",
    "  },\n",
    "  \"specificReservation\": {\n",
    "    \"count\": machines,\n",
    "    \"instanceProperties\": {\n",
    "      \"guestAccelerators\": [\n",
    "        {\n",
    "          \"acceleratorCount\": accelerator_count,\n",
    "          \"acceleratorType\": accelerator_type\n",
    "        }\n",
    "      ],\n",
    "      \"machineType\": machine_type\n",
    "    }\n",
    "  }\n",
    "}"
   ]
  },
  {
   "cell_type": "code",
   "execution_count": null,
   "id": "20a7b5c7-92dc-4cee-a3cf-b113bb49ac94",
   "metadata": {},
   "outputs": [],
   "source": [
    "# Check for operation status \n",
    "# Ref.: https://cloud.google.com/compute/docs/reference/rest/v1/zoneOperations/get\n",
    "def check_resource_grant(credentials, project, zone, oper_id):\n",
    "    oper_url = \"https://compute.googleapis.com/compute/beta/projects/{}/zones/{}/operations/{}\".format(project, zone,oper_id)\n",
    "    while True:\n",
    "        response = requests.get(oper_url, \n",
    "            headers={\"Authorization\": f\"Bearer {credentials.token}\"},\n",
    "        )\n",
    "        if response.json()['status'] == 'DONE':\n",
    "            if not 'httpErrorStatusCode' in response.json():\n",
    "                return response.json()\n",
    "            else:\n",
    "                return None\n",
    "        credentials.refresh(google.auth.transport.requests.Request())\n",
    "        time.sleep(2)"
   ]
  },
  {
   "cell_type": "code",
   "execution_count": null,
   "id": "278b8d00-158b-48e6-b09a-c52dc52b8212",
   "metadata": {},
   "outputs": [],
   "source": [
    "# Ref.: https://cloud.google.com/compute/docs/reference/rest/v1/reservations/insert\n",
    "def request_resource_loop(credentials, project, zones, request, retries) -> str:\n",
    "    logging.info(\"{}: Starting...\".format(datetime.datetime.now()))\n",
    "    for r in range(1,retries):\n",
    "        zone = zones[random.randrange(len(zones))]\n",
    "        url = \"https://compute.googleapis.com/compute/beta/projects/{}/zones/{}/reservations\".format(project, zone)\n",
    "        logging.info(\"{}: Requesting resource ({})\".format(datetime.datetime.now(), zone))\n",
    "\n",
    "        response = requests.post(url, data=json.dumps(request),\n",
    "        headers={\"Content-Type\": \"application/json\",\n",
    "                \"Authorization\": f\"Bearer {credentials.token}\"})\n",
    "        \n",
    "        if not \"name\" in response.json():\n",
    "            logging.error(response.json())\n",
    "            break\n",
    "        \n",
    "        oper_id = response.json()[\"name\"]\n",
    "\n",
    "        status = check_resource_grant(credentials, project, zone, oper_id)\n",
    "\n",
    "        if status:\n",
    "            logging.info(\"{}: Resource granted!\".format(datetime.datetime.now()))\n",
    "            return status\n",
    "        logging.info(\"Resource unavailable, retrying...{}\".format(r+1))\n",
    "    logging.info(\"{}: fail to allocate resource.\".format(datetime.datetime.now()))"
   ]
  },
  {
   "cell_type": "code",
   "execution_count": null,
   "id": "a528b850-1615-4248-bc77-5bab7b700e90",
   "metadata": {},
   "outputs": [],
   "source": [
    "# Get credentails using local service account\n",
    "credentials, project_id = google.auth.default()\n",
    "credentials.refresh(google.auth.transport.requests.Request())\n",
    "\n",
    "# This method returns \"None\" if unsuccessful; otherwise returns json if the resource was granted.\n",
    "granted_resource_json = request_resource_loop(credentials, project, zones, request, retries)\n",
    "pprint.pprint(granted_resource_json)"
   ]
  },
  {
   "cell_type": "code",
   "execution_count": null,
   "id": "a670635d-98c2-43bb-993c-c2c0c75e19f1",
   "metadata": {},
   "outputs": [],
   "source": []
  }
 ],
 "metadata": {
  "environment": {
   "kernel": "python3",
   "name": "pytorch-gpu.2-0.m112",
   "type": "gcloud",
   "uri": "gcr.io/deeplearning-platform-release/pytorch-gpu.2-0:m112"
  },
  "kernelspec": {
   "display_name": "Python 3",
   "language": "python",
   "name": "python3"
  },
  "language_info": {
   "codemirror_mode": {
    "name": "ipython",
    "version": 3
   },
   "file_extension": ".py",
   "mimetype": "text/x-python",
   "name": "python",
   "nbconvert_exporter": "python",
   "pygments_lexer": "ipython3",
   "version": "3.10.12"
  }
 },
 "nbformat": 4,
 "nbformat_minor": 5
}
