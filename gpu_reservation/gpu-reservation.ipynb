{
 "cells": [
  {
   "cell_type": "markdown",
   "id": "cf5ce02f-a353-4e46-a04c-fac56fe1693b",
   "metadata": {},
   "source": [
    "# loop until you can reserve an A100 GPU\n",
    "# API Ref: https://cloud.google.com/python/docs/reference/compute/latest"
   ]
  },
  {
   "cell_type": "code",
   "execution_count": null,
   "id": "c9052d59-d367-4dfc-a07f-dc5e2305f04a",
   "metadata": {},
   "outputs": [],
   "source": [
    "!pip install --upgrade -q google-cloud-compute"
   ]
  },
  {
   "cell_type": "code",
   "execution_count": null,
   "id": "53c10fc5-1a34-4fb0-9640-bb6100ea1a9c",
   "metadata": {},
   "outputs": [],
   "source": [
    "from google.cloud import compute_v1\n",
    "from google.api_core import exceptions as core_exceptions\n",
    "import datetime\n",
    "import logging\n",
    "import uuid\n",
    "logging.basicConfig()\n",
    "logging.getLogger().setLevel(logging.INFO)"
   ]
  },
  {
   "cell_type": "code",
   "execution_count": null,
   "id": "430dc82a-4108-4875-aa24-73335977cf94",
   "metadata": {},
   "outputs": [],
   "source": [
    "project = \"CHANGE_IT\"\n",
    "zone = \"us-central1-c\"\n",
    "machines = 1\n",
    "machine_type = \"a2-highgpu-1g\"\n",
    "retries = 100\n",
    "reservation_name = \"gpu-reservation-{}\".format(uuid.uuid4())"
   ]
  },
  {
   "cell_type": "code",
   "execution_count": null,
   "id": "3be05c57-d302-4d6d-8d82-617900bad0a9",
   "metadata": {},
   "outputs": [],
   "source": [
    "client = compute_v1.ReservationsClient()\n",
    "\n",
    "request = { #https://cloud.google.com/python/docs/reference/compute/latest/google.cloud.compute_v1.types.InsertReservationRequest\n",
    "    \"project\": project,\n",
    "    \"zone\": zone,\n",
    "    \"reservation_resource\" : { #https://cloud.google.com/python/docs/reference/compute/latest/google.cloud.compute_v1.types.Reservation\n",
    "        \"name\": reservation_name,\n",
    "        \"share_settings\": { #https://cloud.google.com/python/docs/reference/compute/latest/google.cloud.compute_v1.types.ShareSettings\n",
    "            \"share_type\": \"LOCAL\", #https://cloud.google.com/python/docs/reference/compute/latest/google.cloud.compute_v1.types.ShareSettings#google_cloud_compute_v1_types_ShareSettings_ShareType\n",
    "        },\n",
    "    \"specific_reservation\": {\n",
    "        \"count\": machines,\n",
    "        \"instance_properties\": { #https://cloud.google.com/python/docs/reference/compute/latest/google.cloud.compute_v1.types.AllocationSpecificSKUAllocationReservedInstanceProperties\n",
    "            \n",
    "            \"guest_accelerators\" : [{  #https://cloud.google.com/python/docs/reference/compute/latest/google.cloud.compute_v1.types.AcceleratorConfig\n",
    "                \"accelerator_count\": 1,\n",
    "                \"accelerator_type\": \"nvidia-tesla-a100\"\n",
    "            }],\n",
    "            \"machine_type\": machine_type\n",
    "        }\n",
    "    }\n",
    "    }   \n",
    "}\n",
    "logging.info(\"{}: Requesting resource\".format(datetime.datetime.now()))\n",
    "for r in range(1,retries):\n",
    "    try: \n",
    "        operation = client.insert(request=request)\n",
    "        response = operation.result()\n",
    "        if not response: \n",
    "            break\n",
    "    except core_exceptions.ServiceUnavailable:\n",
    "        logging.info(\"Resource unavailable, retrying...{}\".format(r+1))\n",
    "logging.info(\"{}: done\".format(datetime.datetime.now()))\n",
    "\n"
   ]
  },
  {
   "cell_type": "code",
   "execution_count": null,
   "id": "ee3340a7-d619-4663-8ee1-7f204961f03b",
   "metadata": {},
   "outputs": [],
   "source": []
  }
 ],
 "metadata": {
  "environment": {
   "kernel": "python3",
   "name": "pytorch-gpu.2-0.m112",
   "type": "gcloud",
   "uri": "gcr.io/deeplearning-platform-release/pytorch-gpu.2-0:m112"
  },
  "kernelspec": {
   "display_name": "Python 3",
   "language": "python",
   "name": "python3"
  },
  "language_info": {
   "codemirror_mode": {
    "name": "ipython",
    "version": 3
   },
   "file_extension": ".py",
   "mimetype": "text/x-python",
   "name": "python",
   "nbconvert_exporter": "python",
   "pygments_lexer": "ipython3",
   "version": "3.10.12"
  }
 },
 "nbformat": 4,
 "nbformat_minor": 5
}
