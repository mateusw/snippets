{
 "cells": [
  {
   "cell_type": "code",
   "execution_count": null,
   "id": "ea483113-3a36-4d18-b06f-475381289671",
   "metadata": {
    "tags": []
   },
   "outputs": [],
   "source": [
    "%pip install -q --upgrade google-cloud-aiplatform google-cloud-bigquery"
   ]
  },
  {
   "cell_type": "code",
   "execution_count": null,
   "id": "6e1cf42c-6969-4037-9a99-2d7ff86a2992",
   "metadata": {
    "tags": []
   },
   "outputs": [],
   "source": [
    "import logging\n",
    "from google.cloud import bigquery\n",
    "from google.cloud.aiplatform_v1beta1 import (FeaturestoreServiceClient,\n",
    "                                             FeatureValueDestination,\n",
    "                                             FeatureSelector,\n",
    "                                             ExportFeatureValuesRequest,\n",
    "                                             types)"
   ]
  },
  {
   "cell_type": "code",
   "execution_count": null,
   "id": "472a0ad7-a566-4378-82a3-54fbbb6c5c3f",
   "metadata": {
    "tags": []
   },
   "outputs": [],
   "source": [
    "# Settings\n",
    "project_id = \"matt-demos\"  # Change it\n",
    "region_id = \"us-central1\" # Change it\n",
    "feature_store_id = \"legacy_fs_1\" # Change it\n",
    "entitytype_id = \"benchmark_3emb_1000xfloat64\" # Change it\n",
    "bigquery_dest_dataset_id = \"featurestore_ds\" # Change it\n",
    "logging.getLogger().setLevel(logging.INFO) # set to DEBUG during trobleshooting"
   ]
  },
  {
   "cell_type": "code",
   "execution_count": null,
   "id": "12d3e826-2d88-46e4-a3c4-0c37a8b90a76",
   "metadata": {
    "tags": []
   },
   "outputs": [],
   "source": [
    "# Get vertex client (using local credentials)\n",
    "fs_client = FeaturestoreServiceClient(\n",
    "    client_options = {\n",
    "        \"api_endpoint\": f\"{region_id}-aiplatform.googleapis.com\"\n",
    "    }\n",
    ")\n",
    "\n",
    "# Get bigquery client\n",
    "bq_client = bigquery.Client()\n",
    "\n",
    "# Aux variables\n",
    "parent_id = f'projects/{project_id}/locations/{region_id}'\n",
    "entitytype_id_path = f'{parent_id}/featurestores/{feature_store_id}/entityTypes/{entitytype_id}'\n",
    "api_endpoint = f'{region_id}-aiplatform.googleapis.com'\n",
    "entity_type_short_id = entitytype_id_path.split(\"/\")[-1]\n",
    "bigquery_output_url = f'bq://{project_id}.{bigquery_dest_dataset_id}.{entity_type_short_id}'\n"
   ]
  },
  {
   "cell_type": "code",
   "execution_count": null,
   "id": "6effe07f-9b92-42ed-9f06-b46395da02fd",
   "metadata": {
    "tags": []
   },
   "outputs": [],
   "source": [
    "# Export EntityType to Bigquery\n",
    "\n",
    "destination = FeatureValueDestination()\n",
    "destination.bigquery_destination.output_uri = bigquery_output_url\n",
    "\n",
    "feature_selector = FeatureSelector()\n",
    "feature_selector.id_matcher.ids = ['*']\n",
    "\n",
    "# request job\n",
    "logging.info(\"Exporting features\")\n",
    "operation = fs_client.export_feature_values(\n",
    "    ExportFeatureValuesRequest(\n",
    "        entity_type = entitytype_id_path,\n",
    "        destination = destination,\n",
    "        feature_selector = feature_selector,\n",
    "        full_export = types.ExportFeatureValuesRequest.FullExport()\n",
    "    )\n",
    ")\n",
    "\n",
    "operation.result() # wait operation to finish\n",
    "\n",
    "logging.info(f'Entity type \"{entity_type_short_id}\" from feature store \\\n",
    "\"{feature_store_id}\" located at \"{region_id}\" of project \"{project_id}\" to Bigquery table \"{bigquery_output_url}\"')"
   ]
  },
  {
   "cell_type": "code",
   "execution_count": null,
   "id": "954afc15-fd56-40cd-829a-f803663ec5b2",
   "metadata": {
    "tags": []
   },
   "outputs": [],
   "source": [
    "# Show exported rows and schema\n",
    "table_id = bq_client.get_table(f'{bigquery_dest_dataset_id}.{entitytype_id}')\n",
    "\n",
    "logging.info(f'The table {table_id} has {table_id.num_rows} rows and {len(table_id.schema)} columns.\\n\\n Schema: {table_id.schema}')"
   ]
  },
  {
   "cell_type": "code",
   "execution_count": null,
   "id": "920c6446-994e-4342-939b-78baf96ccf7c",
   "metadata": {},
   "outputs": [],
   "source": []
  }
 ],
 "metadata": {
  "environment": {
   "kernel": "python3",
   "name": ".m114",
   "type": "gcloud",
   "uri": "gcr.io/deeplearning-platform-release/:m114"
  },
  "kernelspec": {
   "display_name": "Python 3",
   "language": "python",
   "name": "python3"
  },
  "language_info": {
   "codemirror_mode": {
    "name": "ipython",
    "version": 3
   },
   "file_extension": ".py",
   "mimetype": "text/x-python",
   "name": "python",
   "nbconvert_exporter": "python",
   "pygments_lexer": "ipython3",
   "version": "3.10.13"
  }
 },
 "nbformat": 4,
 "nbformat_minor": 5
}
