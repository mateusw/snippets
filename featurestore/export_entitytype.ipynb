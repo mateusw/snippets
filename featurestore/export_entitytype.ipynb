{
 "cells": [
  {
   "cell_type": "markdown",
   "id": "9090b035-c3ef-49a3-9f42-f4e27222a8e2",
   "metadata": {},
   "source": [
    "The code below serves as a reference for exporting features from Vertex Feature Store Legacy (1.0) to the new and fast Vertex Feature Store 2.0.\n",
    "This script is not an official Google release and may contain bugs.\n",
    "mateuswagner@google.com\n",
    "\n",
    "Ref.: \n",
    " - https://cloud.google.com/vertex-ai/docs/featurestore#migrate\n",
    " - https://github.com/GoogleCloudPlatform/vertex-ai-samples/tree/main/notebooks/official\n",
    "\n",
    "PART-1: \n",
    "\n",
    "    - Install required packages\n",
    "    - Initialize clients\n",
    "    - Export EntityType to Bigquery\n",
    "    - Show exported rows count and schema\n",
    "    \n",
    "PART-2\n",
    "\n",
    "    - Create VFS 2.0 feature online store\n",
    "    - Create Feature store\n",
    "    - Start on-demand sync!\n",
    "    - Check FeatureView Syncs status\n",
    "\n",
    "    \n"
   ]
  },
  {
   "cell_type": "markdown",
   "id": "14544694-c709-46a6-8187-9c5744f1bfb9",
   "metadata": {
    "tags": []
   },
   "source": [
    "#### Install required packages"
   ]
  },
  {
   "cell_type": "code",
   "execution_count": null,
   "id": "ea483113-3a36-4d18-b06f-475381289671",
   "metadata": {
    "tags": []
   },
   "outputs": [],
   "source": [
    "%pip install -q --upgrade google-cloud-aiplatform google-cloud-bigquery"
   ]
  },
  {
   "cell_type": "code",
   "execution_count": null,
   "id": "6e1cf42c-6969-4037-9a99-2d7ff86a2992",
   "metadata": {
    "tags": []
   },
   "outputs": [],
   "source": [
    "import logging\n",
    "from google.cloud import bigquery\n",
    "from google.cloud.aiplatform_v1beta1 import (FeaturestoreServiceClient,\n",
    "                                             FeatureValueDestination,\n",
    "                                             FeatureSelector,\n",
    "                                             ExportFeatureValuesRequest,\n",
    "                                             ListFeatureViewSyncsRequest,\n",
    "                                             types)\n",
    "from google.cloud.aiplatform_v1beta1 import (\n",
    "    FeatureOnlineStoreAdminServiceClient, FeatureOnlineStoreServiceClient)\n",
    "\n",
    "from google.cloud.aiplatform_v1beta1.types import NearestNeighborQuery\n",
    "\n",
    "from google.cloud.aiplatform_v1beta1.types import \\\n",
    "    feature_online_store as feature_online_store_pb2\n",
    "\n",
    "from google.cloud.aiplatform_v1beta1.types import \\\n",
    "    feature_online_store_admin_service as \\\n",
    "    feature_online_store_admin_service_pb2\n",
    "\n",
    "from google.cloud.aiplatform_v1beta1.types import \\\n",
    "    feature_online_store_service as feature_online_store_service_pb2\n",
    "\n",
    "from google.cloud.aiplatform_v1beta1.types import \\\n",
    "    feature_view as feature_view_pb2\n",
    "import time\n"
   ]
  },
  {
   "cell_type": "code",
   "execution_count": 11,
   "id": "472a0ad7-a566-4378-82a3-54fbbb6c5c3f",
   "metadata": {
    "tags": []
   },
   "outputs": [],
   "source": [
    "# Settings\n",
    "\n",
    "PROJECT_ID = \"matt-demos\"  # Change it\n",
    "REGION_ID = \"us-central1\" # Change it\n",
    "FEATURE_STORE_ID = \"legacy_fs_1\" # Change it\n",
    "ENTITYTYPE_ID = \"benchmark_3emb_1000xfloat64\" # Change it\n",
    "BIGQUERY_DEST_DATASET_ID = \"featurestore_ds\" # Change it\n",
    "BIGTABLE_MAX_NODE_COUNT = 2 # Change it\n",
    "BIGTABLE_CPU_UTILIZATION_TARGET = 50 # Default\n",
    "FEATURE_ONLINE_STORE_ID = \"featurestore_4\" # Change it\n",
    "FEATURE_ONLINE_STORE_EMBEDDING_MNGMT = True # Change it\n",
    "CRON_SCHEDULE = \"TZ=America/Los_Angeles 56 * * * *\"  # Change it!\n",
    "logging.getLogger().setLevel(logging.INFO) # set to DEBUG during trobleshooting\n",
    "DEFAULT_TIMEOUT = 3600\n"
   ]
  },
  {
   "cell_type": "code",
   "execution_count": null,
   "id": "12d3e826-2d88-46e4-a3c4-0c37a8b90a76",
   "metadata": {
    "tags": []
   },
   "outputs": [],
   "source": [
    "# Aux variables\n",
    "\n",
    "parent_id = f'projects/{PROJECT_ID}/locations/{REGION_ID}'\n",
    "\n",
    "entitytype_id_path = f'{parent_id}/featurestores/{FEATURE_STORE_ID}/entityTypes/{ENTITYTYPE_ID}'\n",
    "\n",
    "entity_type_short_id = entitytype_id_path.split(\"/\")[-1]\n",
    "\n",
    "bigquery_output_url = f'bq://{PROJECT_ID}.{BIGQUERY_DEST_DATASET_ID}.{entity_type_short_id}'\n",
    "\n",
    "entity_id_column = f'entity_type_{entity_type_short_id}'\n",
    "\n",
    "feature_online_stores_name = f\"{parent_id}/featureOnlineStores/{FEATURE_ONLINE_STORE_ID}\"\n",
    "\n",
    "feature_view_id = entity_type_short_id\n",
    "\n",
    "feature_view_full = f\"{feature_online_stores_name}/featureViews/{feature_view_id}\"\n"
   ]
  },
  {
   "cell_type": "markdown",
   "id": "1e140932-2480-4f08-9562-ab64f23e40cc",
   "metadata": {},
   "source": [
    "### Initialize clients"
   ]
  },
  {
   "cell_type": "code",
   "execution_count": null,
   "id": "d9d21e9a-a2c1-4ec7-a9ff-08aa71e97a87",
   "metadata": {},
   "outputs": [],
   "source": [
    "\n",
    "# Get vertex FS client (using local credentials)\n",
    "fs_client = FeaturestoreServiceClient(\n",
    "    client_options = {\n",
    "        \"api_endpoint\": f'{REGION_ID}-aiplatform.googleapis.com'\n",
    "    }\n",
    ")\n",
    "\n",
    "# Get bigquery client\n",
    "bq_client = bigquery.Client()\n",
    "\n",
    "# Get vertex Feature store 2.0 Online store admin client\n",
    "admin_vfs2_client = FeatureOnlineStoreAdminServiceClient(\n",
    "    client_options = {\n",
    "        \"api_endpoint\": f'{REGION_ID}-aiplatform.googleapis.com'\n",
    "    }\n",
    ")"
   ]
  },
  {
   "cell_type": "markdown",
   "id": "7ae81cdd-34d1-4f61-9101-47d58a294391",
   "metadata": {},
   "source": [
    "### Export EntityType (VFS Legacy) to Bigquery"
   ]
  },
  {
   "cell_type": "code",
   "execution_count": null,
   "id": "6effe07f-9b92-42ed-9f06-b46395da02fd",
   "metadata": {
    "tags": []
   },
   "outputs": [],
   "source": [
    "destination = FeatureValueDestination()\n",
    "destination.bigquery_destination.output_uri = bigquery_output_url\n",
    "\n",
    "feature_selector = FeatureSelector()\n",
    "feature_selector.id_matcher.ids = ['*']\n",
    "\n",
    "# request job\n",
    "logging.info(\"Exporting features\")\n",
    "\n",
    "operation = fs_client.export_feature_values(\n",
    "    ExportFeatureValuesRequest(\n",
    "        entity_type = entitytype_id_path,\n",
    "        destination = destination,\n",
    "        feature_selector = feature_selector,\n",
    "        full_export = types.ExportFeatureValuesRequest.FullExport()\n",
    "    ),\n",
    "    timeout = DEFAULT_TIMEOUT\n",
    ")\n",
    "\n",
    "#  Wait export operation to finish\n",
    "operation.result()\n",
    "\n",
    "logging.info(f'Entity type \"{entity_type_short_id}\" from feature store \\\n",
    "\"{feature_store_id}\" located at \"{REGION_ID}\" of project \"{PROJECT_ID}\" to Bigquery table \"{bigquery_output_url}\"')"
   ]
  },
  {
   "cell_type": "markdown",
   "id": "86b232e0-ba4d-4edb-8044-5eaa767e7db1",
   "metadata": {},
   "source": [
    "### Show exported rows count and schema"
   ]
  },
  {
   "cell_type": "code",
   "execution_count": null,
   "id": "954afc15-fd56-40cd-829a-f803663ec5b2",
   "metadata": {
    "tags": []
   },
   "outputs": [],
   "source": [
    "table_id = bq_client.get_table(f'{BIGQUERY_DEST_DATASET_ID}.{ENTITYTYPE_ID}')\n",
    "\n",
    "print(f'The table {table_id} has {table_id.num_rows} \\\n",
    "rows and {len(table_id.schema)} columns.\\n\\n Schema: {table_id.schema}')"
   ]
  },
  {
   "cell_type": "markdown",
   "id": "d9b881ce-325a-444b-a9a1-a8f7a8a3bdac",
   "metadata": {},
   "source": [
    "## Part 2"
   ]
  },
  {
   "cell_type": "markdown",
   "id": "b27a3f14-a7fc-48ed-abc4-a87377b6b010",
   "metadata": {},
   "source": [
    "### Create a new feature online store (VFS 2.0) "
   ]
  },
  {
   "cell_type": "code",
   "execution_count": null,
   "id": "1748b21e-4879-4f18-8e11-d1578f3d8047",
   "metadata": {
    "tags": []
   },
   "outputs": [],
   "source": [
    "# Request a new online store\n",
    "\n",
    "# Define feature online store settings\n",
    "online_store_config = feature_online_store_pb2.FeatureOnlineStore(\n",
    "    optimized = feature_online_store_pb2.FeatureOnlineStore.Optimized(),\n",
    "    bigtable = feature_online_store_pb2.FeatureOnlineStore.Bigtable(\n",
    "        auto_scaling = feature_online_store_pb2.FeatureOnlineStore.Bigtable.AutoScaling(\n",
    "            min_node_count = 1, \n",
    "            max_node_count = BIGTABLE_MAX_NODE_COUNT, \n",
    "            cpu_utilization_target = BIGTABLE_CPU_UTILIZATION_TARGET\n",
    "        )\n",
    "    ),\n",
    "    embedding_management=feature_online_store_pb2.FeatureOnlineStore.EmbeddingManagement(\n",
    "        enabled = FEATURE_ONLINE_STORE_EMBEDDING_MNGMT\n",
    "    )\n",
    ")\n",
    "\n",
    "create_store_lro = admin_vfs2_client.create_feature_online_store(\n",
    "    feature_online_store_admin_service_pb2.CreateFeatureOnlineStoreRequest(\n",
    "        parent = parent_id,\n",
    "        feature_online_store_id = FEATURE_ONLINE_STORE_ID,\n",
    "        feature_online_store = online_store_config,\n",
    "    )\n",
    ")\n",
    "# Wait\n",
    "print(create_store_lro.result())"
   ]
  },
  {
   "cell_type": "markdown",
   "id": "c4068067-56a4-4c5c-b77f-81b68fd45e8a",
   "metadata": {
    "tags": []
   },
   "source": [
    "### Create a FeatureView"
   ]
  },
  {
   "cell_type": "code",
   "execution_count": null,
   "id": "9d7ab023-c519-466c-bbd6-872e9ba8e772",
   "metadata": {
    "tags": []
   },
   "outputs": [],
   "source": [
    "big_query_source = feature_view_pb2.FeatureView.BigQuerySource(\n",
    "    uri = bigquery_output_url, \n",
    "    entity_id_columns = [entity_id_column]\n",
    ")\n",
    "\n",
    "sync_config = feature_view_pb2.FeatureView.SyncConfig(cron=CRON_SCHEDULE)\n",
    "\n",
    "create_view_lro = admin_vfs2_client.create_feature_view(\n",
    "    feature_online_store_admin_service_pb2.CreateFeatureViewRequest(\n",
    "        parent = feature_online_stores_name,\n",
    "        feature_view_id = feature_view_id,\n",
    "        feature_view = feature_view_pb2.FeatureView(\n",
    "            big_query_source = big_query_source,\n",
    "            sync_config=sync_config,\n",
    "        )\n",
    "    )\n",
    ")\n",
    "\n",
    "print(create_view_lro.result())\n"
   ]
  },
  {
   "cell_type": "markdown",
   "id": "4b6fecf1-4f01-4029-a93e-67eaa31c289e",
   "metadata": {},
   "source": [
    "### Start on-demand sync!"
   ]
  },
  {
   "cell_type": "code",
   "execution_count": null,
   "id": "d4ced754-3a90-42dd-9b60-3b90523d57a6",
   "metadata": {
    "tags": []
   },
   "outputs": [],
   "source": [
    "sync_response = admin_vfs2_client.sync_feature_view(\n",
    "    feature_view=feature_view_full\n",
    ")\n",
    "\n",
    "while True:\n",
    "    feature_view_sync = admin_vfs2_client.get_feature_view_sync(\n",
    "        name=sync_response.feature_view_sync\n",
    "    )\n",
    "    if feature_view_sync.run_time.end_time.seconds > 0:\n",
    "        status = \"Succeed\" if feature_view_sync.final_status.code == 0 else \"Failed\"\n",
    "        print(f\"Sync {status} for {feature_view_sync.name}.\")\n",
    "        # wait a little more for the job to properly shutdown\n",
    "        time.sleep(30)\n",
    "        break\n",
    "    else:\n",
    "        print(\"Sync ongoing, waiting for 30 seconds.\")\n",
    "    time.sleep(30)"
   ]
  },
  {
   "cell_type": "markdown",
   "id": "f3ba1fc2-a305-46fa-b540-803af6942bf0",
   "metadata": {},
   "source": [
    "### Check FeatureView Syncs status"
   ]
  },
  {
   "cell_type": "code",
   "execution_count": null,
   "id": "36606ed6-a209-40da-b1e0-37ba4c6df4e1",
   "metadata": {
    "tags": []
   },
   "outputs": [],
   "source": [
    "# Initialize request argument(s)\n",
    "request = ListFeatureViewSyncsRequest(\n",
    "    parent=feature_view_full,\n",
    ")\n",
    "\n",
    "# Make the request\n",
    "page_result = admin_vfs2_client.list_feature_view_syncs(request=request)\n",
    "\n",
    "# Handle the response\n",
    "for response in page_result:\n",
    "    print(response)"
   ]
  },
  {
   "cell_type": "markdown",
   "id": "3174101e-3bcd-4d64-aa30-e66d7d8d1825",
   "metadata": {},
   "source": [
    "### Uncomment the following cell to delete your Feature Online Store"
   ]
  },
  {
   "cell_type": "code",
   "execution_count": null,
   "id": "3c8da35f-4915-434f-82c5-00501fbe2ca0",
   "metadata": {},
   "outputs": [],
   "source": [
    "#op = admin_vfs2_client.delete_feature_online_store(\n",
    "#    name=f\"projects/{PROJECT_ID}/locations/{REGION_ID}/featureOnlineStores/{FEATURE_ONLINE_STORE_ID}\",\n",
    "#    force=True,\n",
    "#)\n"
   ]
  }
 ],
 "metadata": {
  "environment": {
   "kernel": "python3",
   "name": ".m114",
   "type": "gcloud",
   "uri": "gcr.io/deeplearning-platform-release/:m114"
  },
  "kernelspec": {
   "display_name": "Python 3",
   "language": "python",
   "name": "python3"
  },
  "language_info": {
   "codemirror_mode": {
    "name": "ipython",
    "version": 3
   },
   "file_extension": ".py",
   "mimetype": "text/x-python",
   "name": "python",
   "nbconvert_exporter": "python",
   "pygments_lexer": "ipython3",
   "version": "3.10.13"
  }
 },
 "nbformat": 4,
 "nbformat_minor": 5
}
